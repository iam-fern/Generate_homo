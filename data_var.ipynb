{
  "nbformat": 4,
  "nbformat_minor": 0,
  "metadata": {
    "colab": {
      "name": "data_var.ipynb",
      "provenance": [],
      "authorship_tag": "ABX9TyN4a6mlDV1PVUJHTbbjnMjH",
      "include_colab_link": true
    },
    "kernelspec": {
      "name": "python3",
      "display_name": "Python 3"
    },
    "language_info": {
      "name": "python"
    }
  },
  "cells": [
    {
      "cell_type": "markdown",
      "metadata": {
        "id": "view-in-github",
        "colab_type": "text"
      },
      "source": [
        "<a href=\"https://colab.research.google.com/github/iam-fern/Generate_homo/blob/main/data_var.ipynb\" target=\"_parent\"><img src=\"https://colab.research.google.com/assets/colab-badge.svg\" alt=\"Open In Colab\"/></a>"
      ]
    },
    {
      "cell_type": "code",
      "metadata": {
        "colab": {
          "base_uri": "https://localhost:8080/"
        },
        "id": "_wELZtiPL9Zg",
        "outputId": "f2549fb6-fc73-4136-edcb-8d1846f332e1"
      },
      "source": [
        "import pandas as pd\n",
        "import numpy as np\n",
        "import matplotlib.pyplot as plt\n",
        "from scipy.stats import norm\n",
        "from numpy.random import normal\n",
        "import statistics\n",
        "import statistics as stats\n",
        "import scipy.stats as ss\n",
        "from scipy import stats\n",
        "import scipy.stats as stats\n",
        "import time\n",
        "import statsmodels.api as sm\n",
        "%matplotlib inline\n",
        "from google.colab import files"
      ],
      "execution_count": 1,
      "outputs": [
        {
          "output_type": "stream",
          "name": "stderr",
          "text": [
            "/usr/local/lib/python3.7/dist-packages/statsmodels/tools/_testing.py:19: FutureWarning: pandas.util.testing is deprecated. Use the functions in the public API at pandas.testing instead.\n",
            "  import pandas.util.testing as tm\n"
          ]
        }
      ]
    },
    {
      "cell_type": "code",
      "metadata": {
        "colab": {
          "base_uri": "https://localhost:8080/",
          "height": 417
        },
        "id": "ZP3GqSMeMDd7",
        "outputId": "4adcc163-efeb-4a31-95fc-617a2dcd3c1d"
      },
      "source": [
        "data = pd.DataFrame({\"X1\" : np.random.uniform(20, 100, 500000),\n",
        "                     \"X2\" : np.random.uniform(20, 100, 500000),\n",
        "                     \"X3\" : np.random.uniform(20, 100, 500000)})\n",
        "data"
      ],
      "execution_count": 4,
      "outputs": [
        {
          "output_type": "execute_result",
          "data": {
            "text/html": [
              "<div>\n",
              "<style scoped>\n",
              "    .dataframe tbody tr th:only-of-type {\n",
              "        vertical-align: middle;\n",
              "    }\n",
              "\n",
              "    .dataframe tbody tr th {\n",
              "        vertical-align: top;\n",
              "    }\n",
              "\n",
              "    .dataframe thead th {\n",
              "        text-align: right;\n",
              "    }\n",
              "</style>\n",
              "<table border=\"1\" class=\"dataframe\">\n",
              "  <thead>\n",
              "    <tr style=\"text-align: right;\">\n",
              "      <th></th>\n",
              "      <th>X1</th>\n",
              "      <th>X2</th>\n",
              "      <th>X3</th>\n",
              "    </tr>\n",
              "  </thead>\n",
              "  <tbody>\n",
              "    <tr>\n",
              "      <th>0</th>\n",
              "      <td>84.590771</td>\n",
              "      <td>66.382699</td>\n",
              "      <td>30.046130</td>\n",
              "    </tr>\n",
              "    <tr>\n",
              "      <th>1</th>\n",
              "      <td>58.750925</td>\n",
              "      <td>54.805403</td>\n",
              "      <td>32.513126</td>\n",
              "    </tr>\n",
              "    <tr>\n",
              "      <th>2</th>\n",
              "      <td>28.141412</td>\n",
              "      <td>44.484266</td>\n",
              "      <td>31.174884</td>\n",
              "    </tr>\n",
              "    <tr>\n",
              "      <th>3</th>\n",
              "      <td>27.154804</td>\n",
              "      <td>44.476602</td>\n",
              "      <td>56.111852</td>\n",
              "    </tr>\n",
              "    <tr>\n",
              "      <th>4</th>\n",
              "      <td>28.125906</td>\n",
              "      <td>97.402986</td>\n",
              "      <td>67.305242</td>\n",
              "    </tr>\n",
              "    <tr>\n",
              "      <th>...</th>\n",
              "      <td>...</td>\n",
              "      <td>...</td>\n",
              "      <td>...</td>\n",
              "    </tr>\n",
              "    <tr>\n",
              "      <th>499995</th>\n",
              "      <td>47.789211</td>\n",
              "      <td>29.155559</td>\n",
              "      <td>96.799861</td>\n",
              "    </tr>\n",
              "    <tr>\n",
              "      <th>499996</th>\n",
              "      <td>24.971484</td>\n",
              "      <td>60.344675</td>\n",
              "      <td>83.307735</td>\n",
              "    </tr>\n",
              "    <tr>\n",
              "      <th>499997</th>\n",
              "      <td>84.364285</td>\n",
              "      <td>29.663191</td>\n",
              "      <td>89.045833</td>\n",
              "    </tr>\n",
              "    <tr>\n",
              "      <th>499998</th>\n",
              "      <td>47.588263</td>\n",
              "      <td>48.934189</td>\n",
              "      <td>39.097138</td>\n",
              "    </tr>\n",
              "    <tr>\n",
              "      <th>499999</th>\n",
              "      <td>26.612376</td>\n",
              "      <td>98.684625</td>\n",
              "      <td>25.577240</td>\n",
              "    </tr>\n",
              "  </tbody>\n",
              "</table>\n",
              "<p>500000 rows × 3 columns</p>\n",
              "</div>"
            ],
            "text/plain": [
              "               X1         X2         X3\n",
              "0       84.590771  66.382699  30.046130\n",
              "1       58.750925  54.805403  32.513126\n",
              "2       28.141412  44.484266  31.174884\n",
              "3       27.154804  44.476602  56.111852\n",
              "4       28.125906  97.402986  67.305242\n",
              "...           ...        ...        ...\n",
              "499995  47.789211  29.155559  96.799861\n",
              "499996  24.971484  60.344675  83.307735\n",
              "499997  84.364285  29.663191  89.045833\n",
              "499998  47.588263  48.934189  39.097138\n",
              "499999  26.612376  98.684625  25.577240\n",
              "\n",
              "[500000 rows x 3 columns]"
            ]
          },
          "metadata": {},
          "execution_count": 4
        }
      ]
    },
    {
      "cell_type": "code",
      "metadata": {
        "id": "kgLJHxgTM2WZ"
      },
      "source": [
        "X1 = data[\"X1\"]\n",
        "X2 = data[\"X2\"]\n",
        "X3 = data[\"X3\"]\n",
        "\n",
        "new_data = pd.DataFrame({\"X1\" : data[\"X1\"],\n",
        "                         \"X2\" : data[\"X2\"],\n",
        "                         \"X3\" : data[\"X3\"],\n",
        "                         \"e\"  : np.random.normal(0, 1, 500000)})"
      ],
      "execution_count": 45,
      "outputs": []
    },
    {
      "cell_type": "code",
      "metadata": {
        "colab": {
          "base_uri": "https://localhost:8080/",
          "height": 17
        },
        "id": "GVi10x2cMDbS",
        "outputId": "726833e3-6818-4374-9337-3ec797fbdaea"
      },
      "source": [
        "new_data.to_csv('data_var3.csv')\n",
        "files.download('data_var3.csv')"
      ],
      "execution_count": 46,
      "outputs": [
        {
          "output_type": "display_data",
          "data": {
            "application/javascript": [
              "\n",
              "    async function download(id, filename, size) {\n",
              "      if (!google.colab.kernel.accessAllowed) {\n",
              "        return;\n",
              "      }\n",
              "      const div = document.createElement('div');\n",
              "      const label = document.createElement('label');\n",
              "      label.textContent = `Downloading \"${filename}\": `;\n",
              "      div.appendChild(label);\n",
              "      const progress = document.createElement('progress');\n",
              "      progress.max = size;\n",
              "      div.appendChild(progress);\n",
              "      document.body.appendChild(div);\n",
              "\n",
              "      const buffers = [];\n",
              "      let downloaded = 0;\n",
              "\n",
              "      const channel = await google.colab.kernel.comms.open(id);\n",
              "      // Send a message to notify the kernel that we're ready.\n",
              "      channel.send({})\n",
              "\n",
              "      for await (const message of channel.messages) {\n",
              "        // Send a message to notify the kernel that we're ready.\n",
              "        channel.send({})\n",
              "        if (message.buffers) {\n",
              "          for (const buffer of message.buffers) {\n",
              "            buffers.push(buffer);\n",
              "            downloaded += buffer.byteLength;\n",
              "            progress.value = downloaded;\n",
              "          }\n",
              "        }\n",
              "      }\n",
              "      const blob = new Blob(buffers, {type: 'application/binary'});\n",
              "      const a = document.createElement('a');\n",
              "      a.href = window.URL.createObjectURL(blob);\n",
              "      a.download = filename;\n",
              "      div.appendChild(a);\n",
              "      a.click();\n",
              "      div.remove();\n",
              "    }\n",
              "  "
            ],
            "text/plain": [
              "<IPython.core.display.Javascript object>"
            ]
          },
          "metadata": {}
        },
        {
          "output_type": "display_data",
          "data": {
            "application/javascript": [
              "download(\"download_40aae803-ccac-495c-a136-523fa5587024\", \"data_var3.csv\", 40361359)"
            ],
            "text/plain": [
              "<IPython.core.display.Javascript object>"
            ]
          },
          "metadata": {}
        }
      ]
    },
    {
      "cell_type": "code",
      "metadata": {
        "colab": {
          "base_uri": "https://localhost:8080/",
          "height": 447
        },
        "id": "87hVXpvMMDXu",
        "outputId": "de4ab932-0063-4a0e-f250-35afdc662e99"
      },
      "source": [
        "n=250\n",
        "rep=0\n",
        "table_data_all=pd.DataFrame({\"rep\":[]})\n",
        "data_copy=new_data.copy()\n",
        "while not data_copy.empty:\n",
        "    #=========================\n",
        "    if data_copy.shape[0]>n:\n",
        "        index=data_copy.sample(n).index\n",
        "        data_new=data_copy.loc[index,:].reset_index(drop=True)\n",
        "        data_copy=data_copy.drop(index)\n",
        "    else:\n",
        "        data_new=data_copy.copy().reset_index(drop=True)\n",
        "        data_copy=pd.DataFrame({\"\":[]})\n",
        "    #=========================\n",
        "\n",
        "    table_data = pd.DataFrame({\"x1\" : data_new[\"X1\"],\n",
        "                               \"x2\" : data_new[\"X2\"],\n",
        "                               \"x3\" : data_new[\"X3\"],\n",
        "                               \"e\"  : data_new[\"e\"]})\n",
        "  \n",
        "\n",
        "    table_data[\"Y\"] = 10 + table_data[\"x1\"] + table_data[\"x2\"] + table_data[\"x3\"] + table_data[\"e\"]\n",
        "    \n",
        "    table_data=table_data.reset_index(drop=True).reset_index()\n",
        "    table_data[\"rep\"]=rep\n",
        "    table_data_all=pd.concat([table_data_all,table_data],axis=0,ignore_index=True,sort=False)\n",
        "    rep+=1\n",
        "    if rep==1000:\n",
        "      break\n",
        "table_data_all=table_data_all.set_index([\"rep\", \"index\"])\n",
        "table_data_all"
      ],
      "execution_count": 59,
      "outputs": [
        {
          "output_type": "execute_result",
          "data": {
            "text/html": [
              "<div>\n",
              "<style scoped>\n",
              "    .dataframe tbody tr th:only-of-type {\n",
              "        vertical-align: middle;\n",
              "    }\n",
              "\n",
              "    .dataframe tbody tr th {\n",
              "        vertical-align: top;\n",
              "    }\n",
              "\n",
              "    .dataframe thead th {\n",
              "        text-align: right;\n",
              "    }\n",
              "</style>\n",
              "<table border=\"1\" class=\"dataframe\">\n",
              "  <thead>\n",
              "    <tr style=\"text-align: right;\">\n",
              "      <th></th>\n",
              "      <th></th>\n",
              "      <th>x1</th>\n",
              "      <th>x2</th>\n",
              "      <th>x3</th>\n",
              "      <th>e</th>\n",
              "      <th>Y</th>\n",
              "    </tr>\n",
              "    <tr>\n",
              "      <th>rep</th>\n",
              "      <th>index</th>\n",
              "      <th></th>\n",
              "      <th></th>\n",
              "      <th></th>\n",
              "      <th></th>\n",
              "      <th></th>\n",
              "    </tr>\n",
              "  </thead>\n",
              "  <tbody>\n",
              "    <tr>\n",
              "      <th rowspan=\"5\" valign=\"top\">0.0</th>\n",
              "      <th>0.0</th>\n",
              "      <td>70.658658</td>\n",
              "      <td>64.325177</td>\n",
              "      <td>95.438904</td>\n",
              "      <td>0.213779</td>\n",
              "      <td>240.636519</td>\n",
              "    </tr>\n",
              "    <tr>\n",
              "      <th>1.0</th>\n",
              "      <td>83.273073</td>\n",
              "      <td>22.849664</td>\n",
              "      <td>24.805507</td>\n",
              "      <td>0.019682</td>\n",
              "      <td>140.947927</td>\n",
              "    </tr>\n",
              "    <tr>\n",
              "      <th>2.0</th>\n",
              "      <td>27.855680</td>\n",
              "      <td>63.936757</td>\n",
              "      <td>67.421523</td>\n",
              "      <td>-0.790768</td>\n",
              "      <td>168.423193</td>\n",
              "    </tr>\n",
              "    <tr>\n",
              "      <th>3.0</th>\n",
              "      <td>33.026179</td>\n",
              "      <td>33.860527</td>\n",
              "      <td>59.870271</td>\n",
              "      <td>0.443546</td>\n",
              "      <td>137.200524</td>\n",
              "    </tr>\n",
              "    <tr>\n",
              "      <th>4.0</th>\n",
              "      <td>28.561203</td>\n",
              "      <td>35.930987</td>\n",
              "      <td>86.596446</td>\n",
              "      <td>-0.622147</td>\n",
              "      <td>160.466490</td>\n",
              "    </tr>\n",
              "    <tr>\n",
              "      <th>...</th>\n",
              "      <th>...</th>\n",
              "      <td>...</td>\n",
              "      <td>...</td>\n",
              "      <td>...</td>\n",
              "      <td>...</td>\n",
              "      <td>...</td>\n",
              "    </tr>\n",
              "    <tr>\n",
              "      <th rowspan=\"5\" valign=\"top\">999.0</th>\n",
              "      <th>245.0</th>\n",
              "      <td>49.015891</td>\n",
              "      <td>84.643543</td>\n",
              "      <td>81.804499</td>\n",
              "      <td>0.903785</td>\n",
              "      <td>226.367719</td>\n",
              "    </tr>\n",
              "    <tr>\n",
              "      <th>246.0</th>\n",
              "      <td>58.479229</td>\n",
              "      <td>76.580733</td>\n",
              "      <td>79.881378</td>\n",
              "      <td>0.993241</td>\n",
              "      <td>225.934581</td>\n",
              "    </tr>\n",
              "    <tr>\n",
              "      <th>247.0</th>\n",
              "      <td>77.607653</td>\n",
              "      <td>69.147074</td>\n",
              "      <td>89.437721</td>\n",
              "      <td>0.528004</td>\n",
              "      <td>246.720451</td>\n",
              "    </tr>\n",
              "    <tr>\n",
              "      <th>248.0</th>\n",
              "      <td>90.138528</td>\n",
              "      <td>90.742662</td>\n",
              "      <td>87.774037</td>\n",
              "      <td>-0.301356</td>\n",
              "      <td>278.353871</td>\n",
              "    </tr>\n",
              "    <tr>\n",
              "      <th>249.0</th>\n",
              "      <td>23.326226</td>\n",
              "      <td>45.639932</td>\n",
              "      <td>67.422832</td>\n",
              "      <td>-0.185915</td>\n",
              "      <td>146.203076</td>\n",
              "    </tr>\n",
              "  </tbody>\n",
              "</table>\n",
              "<p>250000 rows × 5 columns</p>\n",
              "</div>"
            ],
            "text/plain": [
              "                    x1         x2         x3         e           Y\n",
              "rep   index                                                       \n",
              "0.0   0.0    70.658658  64.325177  95.438904  0.213779  240.636519\n",
              "      1.0    83.273073  22.849664  24.805507  0.019682  140.947927\n",
              "      2.0    27.855680  63.936757  67.421523 -0.790768  168.423193\n",
              "      3.0    33.026179  33.860527  59.870271  0.443546  137.200524\n",
              "      4.0    28.561203  35.930987  86.596446 -0.622147  160.466490\n",
              "...                ...        ...        ...       ...         ...\n",
              "999.0 245.0  49.015891  84.643543  81.804499  0.903785  226.367719\n",
              "      246.0  58.479229  76.580733  79.881378  0.993241  225.934581\n",
              "      247.0  77.607653  69.147074  89.437721  0.528004  246.720451\n",
              "      248.0  90.138528  90.742662  87.774037 -0.301356  278.353871\n",
              "      249.0  23.326226  45.639932  67.422832 -0.185915  146.203076\n",
              "\n",
              "[250000 rows x 5 columns]"
            ]
          },
          "metadata": {},
          "execution_count": 59
        }
      ]
    },
    {
      "cell_type": "code",
      "metadata": {
        "colab": {
          "base_uri": "https://localhost:8080/",
          "height": 447
        },
        "id": "j0fWzm0gMDRl",
        "outputId": "70b85b32-ee17-4ad5-a4a3-fc80a5635548"
      },
      "source": [
        "x = table_data_all[[\"x1\", \"x2\", \"x3\",]]\n",
        "y = table_data_all[\"Y\"]\n",
        "x = sm.add_constant(x)\n",
        "model = sm.OLS(y, x).fit()\n",
        "y_pred = model.predict(x)\n",
        "\n",
        "df = pd.DataFrame({\"Actual\": y, \"Predicted\": y_pred})\n",
        "\n",
        "table_data_new = pd.DataFrame({\"x1\"   : table_data_all[\"x1\"],\n",
        "                               \"x2\"   : table_data_all[\"x2\"],\n",
        "                               \"x3\"   : table_data_all[\"x3\"],\n",
        "                               \"e\"     : table_data_all[\"e\"],\n",
        "                               \"Y\"     : df[\"Actual\"],\n",
        "                               \"y_hat\" : df[\"Predicted\"]})\n",
        "table_data_new[\"e_hat\"] = table_data_new[\"Y\"] - table_data_new[\"y_hat\"]\n",
        "table_data_new"
      ],
      "execution_count": 60,
      "outputs": [
        {
          "output_type": "execute_result",
          "data": {
            "text/html": [
              "<div>\n",
              "<style scoped>\n",
              "    .dataframe tbody tr th:only-of-type {\n",
              "        vertical-align: middle;\n",
              "    }\n",
              "\n",
              "    .dataframe tbody tr th {\n",
              "        vertical-align: top;\n",
              "    }\n",
              "\n",
              "    .dataframe thead th {\n",
              "        text-align: right;\n",
              "    }\n",
              "</style>\n",
              "<table border=\"1\" class=\"dataframe\">\n",
              "  <thead>\n",
              "    <tr style=\"text-align: right;\">\n",
              "      <th></th>\n",
              "      <th></th>\n",
              "      <th>x1</th>\n",
              "      <th>x2</th>\n",
              "      <th>x3</th>\n",
              "      <th>e</th>\n",
              "      <th>Y</th>\n",
              "      <th>y_hat</th>\n",
              "      <th>e_hat</th>\n",
              "    </tr>\n",
              "    <tr>\n",
              "      <th>rep</th>\n",
              "      <th>index</th>\n",
              "      <th></th>\n",
              "      <th></th>\n",
              "      <th></th>\n",
              "      <th></th>\n",
              "      <th></th>\n",
              "      <th></th>\n",
              "      <th></th>\n",
              "    </tr>\n",
              "  </thead>\n",
              "  <tbody>\n",
              "    <tr>\n",
              "      <th rowspan=\"5\" valign=\"top\">0.0</th>\n",
              "      <th>0.0</th>\n",
              "      <td>70.658658</td>\n",
              "      <td>64.325177</td>\n",
              "      <td>95.438904</td>\n",
              "      <td>0.213779</td>\n",
              "      <td>240.636519</td>\n",
              "      <td>240.420923</td>\n",
              "      <td>0.215595</td>\n",
              "    </tr>\n",
              "    <tr>\n",
              "      <th>1.0</th>\n",
              "      <td>83.273073</td>\n",
              "      <td>22.849664</td>\n",
              "      <td>24.805507</td>\n",
              "      <td>0.019682</td>\n",
              "      <td>140.947927</td>\n",
              "      <td>140.933549</td>\n",
              "      <td>0.014378</td>\n",
              "    </tr>\n",
              "    <tr>\n",
              "      <th>2.0</th>\n",
              "      <td>27.855680</td>\n",
              "      <td>63.936757</td>\n",
              "      <td>67.421523</td>\n",
              "      <td>-0.790768</td>\n",
              "      <td>168.423193</td>\n",
              "      <td>169.215361</td>\n",
              "      <td>-0.792169</td>\n",
              "    </tr>\n",
              "    <tr>\n",
              "      <th>3.0</th>\n",
              "      <td>33.026179</td>\n",
              "      <td>33.860527</td>\n",
              "      <td>59.870271</td>\n",
              "      <td>0.443546</td>\n",
              "      <td>137.200524</td>\n",
              "      <td>136.761869</td>\n",
              "      <td>0.438655</td>\n",
              "    </tr>\n",
              "    <tr>\n",
              "      <th>4.0</th>\n",
              "      <td>28.561203</td>\n",
              "      <td>35.930987</td>\n",
              "      <td>86.596446</td>\n",
              "      <td>-0.622147</td>\n",
              "      <td>160.466490</td>\n",
              "      <td>161.092363</td>\n",
              "      <td>-0.625873</td>\n",
              "    </tr>\n",
              "    <tr>\n",
              "      <th>...</th>\n",
              "      <th>...</th>\n",
              "      <td>...</td>\n",
              "      <td>...</td>\n",
              "      <td>...</td>\n",
              "      <td>...</td>\n",
              "      <td>...</td>\n",
              "      <td>...</td>\n",
              "      <td>...</td>\n",
              "    </tr>\n",
              "    <tr>\n",
              "      <th rowspan=\"5\" valign=\"top\">999.0</th>\n",
              "      <th>245.0</th>\n",
              "      <td>49.015891</td>\n",
              "      <td>84.643543</td>\n",
              "      <td>81.804499</td>\n",
              "      <td>0.903785</td>\n",
              "      <td>226.367719</td>\n",
              "      <td>225.461397</td>\n",
              "      <td>0.906322</td>\n",
              "    </tr>\n",
              "    <tr>\n",
              "      <th>246.0</th>\n",
              "      <td>58.479229</td>\n",
              "      <td>76.580733</td>\n",
              "      <td>79.881378</td>\n",
              "      <td>0.993241</td>\n",
              "      <td>225.934581</td>\n",
              "      <td>224.939361</td>\n",
              "      <td>0.995221</td>\n",
              "    </tr>\n",
              "    <tr>\n",
              "      <th>247.0</th>\n",
              "      <td>77.607653</td>\n",
              "      <td>69.147074</td>\n",
              "      <td>89.437721</td>\n",
              "      <td>0.528004</td>\n",
              "      <td>246.720451</td>\n",
              "      <td>246.190019</td>\n",
              "      <td>0.530432</td>\n",
              "    </tr>\n",
              "    <tr>\n",
              "      <th>248.0</th>\n",
              "      <td>90.138528</td>\n",
              "      <td>90.742662</td>\n",
              "      <td>87.774037</td>\n",
              "      <td>-0.301356</td>\n",
              "      <td>278.353871</td>\n",
              "      <td>278.649841</td>\n",
              "      <td>-0.295970</td>\n",
              "    </tr>\n",
              "    <tr>\n",
              "      <th>249.0</th>\n",
              "      <td>23.326226</td>\n",
              "      <td>45.639932</td>\n",
              "      <td>67.422832</td>\n",
              "      <td>-0.185915</td>\n",
              "      <td>146.203076</td>\n",
              "      <td>146.392674</td>\n",
              "      <td>-0.189599</td>\n",
              "    </tr>\n",
              "  </tbody>\n",
              "</table>\n",
              "<p>250000 rows × 7 columns</p>\n",
              "</div>"
            ],
            "text/plain": [
              "                    x1         x2         x3  ...           Y       y_hat     e_hat\n",
              "rep   index                                   ...                                  \n",
              "0.0   0.0    70.658658  64.325177  95.438904  ...  240.636519  240.420923  0.215595\n",
              "      1.0    83.273073  22.849664  24.805507  ...  140.947927  140.933549  0.014378\n",
              "      2.0    27.855680  63.936757  67.421523  ...  168.423193  169.215361 -0.792169\n",
              "      3.0    33.026179  33.860527  59.870271  ...  137.200524  136.761869  0.438655\n",
              "      4.0    28.561203  35.930987  86.596446  ...  160.466490  161.092363 -0.625873\n",
              "...                ...        ...        ...  ...         ...         ...       ...\n",
              "999.0 245.0  49.015891  84.643543  81.804499  ...  226.367719  225.461397  0.906322\n",
              "      246.0  58.479229  76.580733  79.881378  ...  225.934581  224.939361  0.995221\n",
              "      247.0  77.607653  69.147074  89.437721  ...  246.720451  246.190019  0.530432\n",
              "      248.0  90.138528  90.742662  87.774037  ...  278.353871  278.649841 -0.295970\n",
              "      249.0  23.326226  45.639932  67.422832  ...  146.203076  146.392674 -0.189599\n",
              "\n",
              "[250000 rows x 7 columns]"
            ]
          },
          "metadata": {},
          "execution_count": 60
        }
      ]
    },
    {
      "cell_type": "code",
      "metadata": {
        "colab": {
          "base_uri": "https://localhost:8080/",
          "height": 17
        },
        "id": "Mj2qpXoYMDOw",
        "outputId": "8b845ef3-fca6-420c-c584-5e8a33f06a22"
      },
      "source": [
        "table_data_new.to_csv(\"data_var3_n250.csv\")\n",
        "files.download(\"data_var3_n250.csv\")"
      ],
      "execution_count": 61,
      "outputs": [
        {
          "output_type": "display_data",
          "data": {
            "application/javascript": [
              "\n",
              "    async function download(id, filename, size) {\n",
              "      if (!google.colab.kernel.accessAllowed) {\n",
              "        return;\n",
              "      }\n",
              "      const div = document.createElement('div');\n",
              "      const label = document.createElement('label');\n",
              "      label.textContent = `Downloading \"${filename}\": `;\n",
              "      div.appendChild(label);\n",
              "      const progress = document.createElement('progress');\n",
              "      progress.max = size;\n",
              "      div.appendChild(progress);\n",
              "      document.body.appendChild(div);\n",
              "\n",
              "      const buffers = [];\n",
              "      let downloaded = 0;\n",
              "\n",
              "      const channel = await google.colab.kernel.comms.open(id);\n",
              "      // Send a message to notify the kernel that we're ready.\n",
              "      channel.send({})\n",
              "\n",
              "      for await (const message of channel.messages) {\n",
              "        // Send a message to notify the kernel that we're ready.\n",
              "        channel.send({})\n",
              "        if (message.buffers) {\n",
              "          for (const buffer of message.buffers) {\n",
              "            buffers.push(buffer);\n",
              "            downloaded += buffer.byteLength;\n",
              "            progress.value = downloaded;\n",
              "          }\n",
              "        }\n",
              "      }\n",
              "      const blob = new Blob(buffers, {type: 'application/binary'});\n",
              "      const a = document.createElement('a');\n",
              "      a.href = window.URL.createObjectURL(blob);\n",
              "      a.download = filename;\n",
              "      div.appendChild(a);\n",
              "      a.click();\n",
              "      div.remove();\n",
              "    }\n",
              "  "
            ],
            "text/plain": [
              "<IPython.core.display.Javascript object>"
            ]
          },
          "metadata": {}
        },
        {
          "output_type": "display_data",
          "data": {
            "application/javascript": [
              "download(\"download_015d5d4c-ad50-4104-8340-ac07b8cf8d46\", \"data_var3_n250.csv\", 35591064)"
            ],
            "text/plain": [
              "<IPython.core.display.Javascript object>"
            ]
          },
          "metadata": {}
        }
      ]
    },
    {
      "cell_type": "code",
      "metadata": {
        "colab": {
          "base_uri": "https://localhost:8080/",
          "height": 1000
        },
        "id": "26yWW6-UMDKs",
        "outputId": "fe8d439a-7438-43f9-a195-ed6a4d2a2647"
      },
      "source": [
        "table_data_new.plot(x ='y_hat', y='e_hat', kind = 'scatter')\n",
        "table_data_new.plot(x ='x1', y='e_hat', kind = 'scatter')\n",
        "table_data_new.plot(x ='x2', y='e_hat', kind = 'scatter')\n",
        "table_data_new.plot(x ='x3', y='e_hat', kind = 'scatter')"
      ],
      "execution_count": 43,
      "outputs": [
        {
          "output_type": "execute_result",
          "data": {
            "text/plain": [
              "<matplotlib.axes._subplots.AxesSubplot at 0x7f518cf7d610>"
            ]
          },
          "metadata": {},
          "execution_count": 43
        },
        {
          "output_type": "display_data",
          "data": {
            "image/png": "[encoded data removed]",
            "text/plain": [
              "<Figure size 432x288 with 1 Axes>"
            ]
          },
          "metadata": {
            "needs_background": "light"
          }
        },
        {
          "output_type": "display_data",
          "data": {
            "image/png": "[encoded data removed]",
            "text/plain": [
              "<Figure size 432x288 with 1 Axes>"
            ]
          },
          "metadata": {
            "needs_background": "light"
          }
        },
        {
          "output_type": "display_data",
          "data": {
            "image/png": "[encoded data removed]",
            "text/plain": [
              "<Figure size 432x288 with 1 Axes>"
            ]
          },
          "metadata": {
            "needs_background": "light"
          }
        },
        {
          "output_type": "display_data",
          "data": {
            "image/png": "[encoded data removed]",
            "text/plain": [
              "<Figure size 432x288 with 1 Axes>"
            ]
          },
          "metadata": {
            "needs_background": "light"
          }
        }
      ]
    }
  ]
}